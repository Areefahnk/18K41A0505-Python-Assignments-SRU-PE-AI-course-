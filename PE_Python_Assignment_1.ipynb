{
  "nbformat": 4,
  "nbformat_minor": 0,
  "metadata": {
    "colab": {
      "name": "PE-Python Assignment -1.ipynb",
      "provenance": [],
      "collapsed_sections": [],
      "authorship_tag": "ABX9TyOm2KRtSPWfAvUoYyh+7IR9",
      "include_colab_link": true
    },
    "kernelspec": {
      "name": "python3",
      "display_name": "Python 3"
    }
  },
  "cells": [
    {
      "cell_type": "markdown",
      "metadata": {
        "id": "view-in-github",
        "colab_type": "text"
      },
      "source": [
        "<a href=\"https://colab.research.google.com/github/Areefahnk/18K41A0505-Python-Assignments-SRU-PE-AI-course-/blob/master/PE_Python_Assignment_1.ipynb\" target=\"_parent\"><img src=\"https://colab.research.google.com/assets/colab-badge.svg\" alt=\"Open In Colab\"/></a>"
      ]
    },
    {
      "cell_type": "markdown",
      "metadata": {
        "id": "N_H2K-2kTWRA",
        "colab_type": "text"
      },
      "source": [
        "1.\t**Develop a code for below scenario!**[alt text](https://drive.google.com/file/d/1xnnWbSiS-dVgYvc0QfGgdTro2eXGEoy7/view?usp=sharing)\n",
        "**bold text**\n"
      ]
    },
    {
      "cell_type": "code",
      "metadata": {
        "id": "d9CtIekpUIX7",
        "colab_type": "code",
        "colab": {
          "base_uri": "https://localhost:8080/",
          "height": 52
        },
        "outputId": "8fa124ef-a9c1-4da4-e1d0-e1febc73c9f2"
      },
      "source": [
        "year = int(input(\"Enter a year \"))\n",
        "y=year%12\n",
        "d={0:\"monkey\",1:\"rooster\",2:\"dog\",3:\"pig\",4:\"rat\",5:\"ox\",6:\"tiger\",7:\"rabbit\",8:\"dragon\",9:\"snake\",10:\"horse\",11:\"sheep\"}\n",
        "print(d[y])"
      ],
      "execution_count": 30,
      "outputs": [
        {
          "output_type": "stream",
          "text": [
            "Enter a year 2010\n",
            "tiger\n"
          ],
          "name": "stdout"
        }
      ]
    },
    {
      "cell_type": "markdown",
      "metadata": {
        "id": "X5XjPql7Vupc",
        "colab_type": "text"
      },
      "source": [
        "2.\tA Quick Fox Transport Co. wants to develop an application for calculating amount based on distance and weight of goods. The charges (Amount) to be calculated as per rates given below. \n",
        "\n",
        "Input:  Distance to be travel: 520     \n",
        "Weight of the goods: 50 \n",
        "\n",
        "Output: Amount to be charged: 3120 /-\n"
      ]
    },
    {
      "cell_type": "code",
      "metadata": {
        "id": "GJiECDEUVNUd",
        "colab_type": "code",
        "colab": {
          "base_uri": "https://localhost:8080/",
          "height": 70
        },
        "outputId": "9d2e9a4d-2212-4147-8fbc-e94da2e6373e"
      },
      "source": [
        "dist=int(input(\"Distance to be travel :\"))\n",
        "wt=int(input(\"Weight of the goods :\"))\n",
        "if dist>=500:\n",
        "  if wt>=100:\n",
        "    amount=dist*5\n",
        "  elif wt>=10 and wt<100:\n",
        "    amount=dist*6\n",
        "  elif wt<10:\n",
        "    amount=dist*7\n",
        "elif dist < 500:\n",
        "  if wt>=100:\n",
        "    amount=dist*8\n",
        "  elif wt<100:\n",
        "    amount=dist*5\n",
        "print(\"Amount to be charged:\",amount,\"/-\")"
      ],
      "execution_count": 12,
      "outputs": [
        {
          "output_type": "stream",
          "text": [
            "Distance to be travel :520\n",
            "Weight of the goods :50\n",
            "Amount to be charged: 3120 /-\n"
          ],
          "name": "stdout"
        }
      ]
    },
    {
      "cell_type": "markdown",
      "metadata": {
        "id": "Km-s1xS9KzoY",
        "colab_type": "text"
      },
      "source": [
        "3.\t**The Entertainment Paradise**\n",
        "\n",
        " A theater in Delhi wants to develop a computerized Booking System. The theater offers different types of seats. The Ticket rates are- Stalls- Rs. 625/-, Circle- Rs.750/-, Upper Class- Rs.850/- and Box- Rs.1000/-. A discount is given 10% of total amount if tickets are purchased on Cash. In case of credit card holders 5% discount is given. \n",
        "\n",
        "Input: \tType of Seat: Circle    \n",
        "\n",
        "Payment mode: cash\n",
        "\n",
        "Output: Cost of ticket: 675\n"
      ]
    },
    {
      "cell_type": "code",
      "metadata": {
        "id": "q5tOOCALX0Dd",
        "colab_type": "code",
        "colab": {
          "base_uri": "https://localhost:8080/",
          "height": 70
        },
        "outputId": "b91a0a83-4353-432b-d78e-e3703e42f0f4"
      },
      "source": [
        "stalls=625\n",
        "circle=750\n",
        "uc=850\n",
        "box=1000\n",
        "type1=input(\"Type of Seat \")\n",
        "mode=input(\"Payment mode \")\n",
        "if type1.casefold()==\"Circle\".casefold():\n",
        "  if mode.casefold()==\"cash\".casefold():\n",
        "    a=circle - (circle*10/100)\n",
        "  elif mode.casefold()==\"card\":\n",
        "    a=circle-(circle*5/100)\n",
        "elif type1.casefold()==\"Stalls\".casefold():\n",
        "  if mode.casefold()==\"cash\".casefold():\n",
        "    a=stalls- (stalls*10/100)\n",
        "  elif mode.casefold()==\"card\".casefold():\n",
        "    a=stalls-(stalls*5/100)\n",
        "elif type1.casefold()==\"Upper Class\".casefold():\n",
        "  if mode.casefold()==\"cash\".casefold():\n",
        "    a=uc-(uc*10/100)\n",
        "  elif mode.casefold()==\"card\".casefold():\n",
        "    a=uc-(uc*5/100)\n",
        "elif type1.casefold()==\"Box\".casefold():\n",
        "  if mode.casefold()==\"cash\".casefold():\n",
        "    a=box-(box*10/100)\n",
        "  elif mode.casefold()==\"card\".casefold():\n",
        "    a=box-(box*5/100)\n",
        "print(\"Cost of ticket:\",int(a))"
      ],
      "execution_count": 48,
      "outputs": [
        {
          "output_type": "stream",
          "text": [
            "Type of Seat Circle\n",
            "Payment mode cash\n",
            "Cost of ticket: 675\n"
          ],
          "name": "stdout"
        }
      ]
    },
    {
      "cell_type": "markdown",
      "metadata": {
        "id": "tjZyU6jQTJTz",
        "colab_type": "text"
      },
      "source": [
        "4.\tDevelop a program that calculates the energy needed to heat water from an initial temperature to a final temperature. Your program should prompt the user to enter the amount of water in kilograms and the initial and final temperatures of the water. The formula to compute the energy is \n",
        "\n",
        "Q = M * (finalTemperature – initialTemperature) * 4184.\n",
        "\n",
        "where M is the weight of water in kilograms, temperatures are in degrees Celsius,  and energy Q is measured in joules. (L6)\n"
      ]
    },
    {
      "cell_type": "code",
      "metadata": {
        "id": "wiqA98HWPVoz",
        "colab_type": "code",
        "colab": {
          "base_uri": "https://localhost:8080/",
          "height": 87
        },
        "outputId": "cd8d0214-bbd4-4b9e-84f0-63d69ef39012"
      },
      "source": [
        "M=int(input(\"Enter amount of water in kilograms \"))\n",
        "intemp=float(input(\"Enter Initial temperature \"))\n",
        "fitemp=float(input(\"Enter Final temperature \"))\n",
        "Q = M*(fitemp-intemp)*4184\n",
        "print(Q)"
      ],
      "execution_count": 28,
      "outputs": [
        {
          "output_type": "stream",
          "text": [
            "Enter amount of water in kilograms 6\n",
            "Enter Initial temperature 45.7\n",
            "Enter FInal temperature 120.9\n",
            "1887820.8000000003\n"
          ],
          "name": "stdout"
        }
      ]
    },
    {
      "cell_type": "markdown",
      "metadata": {
        "id": "cFIF4aClUOcF",
        "colab_type": "text"
      },
      "source": [
        "5.\tDevelop a program that prompts user to enter month and  print \n",
        "\n",
        "a.\t“Winter ” -   December ,January and February\n",
        "\n",
        "b.\t“Spring”  -   March ,April and May\n",
        "\n",
        "c.\t“Summer”  --- June ,July, August\n",
        "\n",
        "d.\t“Autumn ”  -- September ,October, November\n",
        "\n"
      ]
    },
    {
      "cell_type": "code",
      "metadata": {
        "id": "AWfwU9HrUBC5",
        "colab_type": "code",
        "colab": {
          "base_uri": "https://localhost:8080/",
          "height": 52
        },
        "outputId": "e830ac55-0410-4112-aacf-ae9a97e21159"
      },
      "source": [
        "month=input(\"Enter month: \")\n",
        "if month.casefold()==\"December\".casefold() or month.casefold()==\"January\".casefold() or month.casefold()==\"February\".casefold():\n",
        "  print(\"Winter\")\n",
        "elif month.casefold()==\"March\".casefold() or month.casefold()==\"April\".casefold() or month.casefold()==\"May\".casefold():\n",
        "  print(\"Spring\")\n",
        "elif month.casefold()==\"June\".casefold() or month.casefold()==\"July\".casefold() or month.casefold()==\"August\".casefold():\n",
        "  print(\"Summer\")\n",
        "elif month.casefold()==\"September\".casefold() or month.casefold()==\"October\".casefold() or month.casefold()==\"November\".casefold():\n",
        "  print(\"Autumn\")"
      ],
      "execution_count": 27,
      "outputs": [
        {
          "output_type": "stream",
          "text": [
            "Enter month: october\n",
            "Autumn\n"
          ],
          "name": "stdout"
        }
      ]
    },
    {
      "cell_type": "markdown",
      "metadata": {
        "id": "VCNxrwpLVqt1",
        "colab_type": "text"
      },
      "source": [
        "Previous program with help of list"
      ]
    },
    {
      "cell_type": "code",
      "metadata": {
        "id": "udicv_RjVKU_",
        "colab_type": "code",
        "colab": {
          "base_uri": "https://localhost:8080/",
          "height": 52
        },
        "outputId": "4366e90a-7fda-4e8d-b9fc-c5ff1a06f737"
      },
      "source": [
        "month=input(\"Enter month \")\n",
        "winterlist=[\"December\",\"January\",\"February\"]\n",
        "springlist=[\"March\",\"April\",\"May\"]\n",
        "summerlist=[\"June\",\"July\",\"August\"]\n",
        "autumnlist=[\"September\",\"October\",\"November\"]\n",
        "if month in winterlist:\n",
        "  print(\"Winter\")\n",
        "elif month in springlist: \n",
        "  print(\"Spring\")\n",
        "elif month in summerlist:\n",
        "  print(\"Summer\")\n",
        "else:\n",
        "  print(\"Autumn\")"
      ],
      "execution_count": 31,
      "outputs": [
        {
          "output_type": "stream",
          "text": [
            "Enter month October\n",
            "Autumn\n"
          ],
          "name": "stdout"
        }
      ]
    },
    {
      "cell_type": "markdown",
      "metadata": {
        "id": "-RtIGMAOWSFm",
        "colab_type": "text"
      },
      "source": [
        "\n",
        "6.\tBody Mass Index"
      ]
    },
    {
      "cell_type": "code",
      "metadata": {
        "id": "WyCeUcVIWGIk",
        "colab_type": "code",
        "colab": {
          "base_uri": "https://localhost:8080/",
          "height": 70
        },
        "outputId": "90b0e54b-c023-4dfc-cbd5-760d6f5a58fd"
      },
      "source": [
        "wt=int(input(\"Enter Weight in pounds:\"))\n",
        "ht=float(input(\"Enter Height in inches:\"))\n",
        "wt1=wt*0.45359237\n",
        "ht1=ht*0.0254\n",
        "bmi=wt1/(ht1**2)\n",
        "if (bmi < 18.5): \n",
        "    print(\"Underweight\") \n",
        "elif ( bmi>= 18.5 and bmi < 24.9): \n",
        "    print(\"Normal\") \n",
        "elif ( bmi>= 24.9 and bmi < 30): \n",
        "    print(\"Overweight\") \n",
        "elif ( bmi>=30): \n",
        "    print(\"Obese\")"
      ],
      "execution_count": 35,
      "outputs": [
        {
          "output_type": "stream",
          "text": [
            "Enter Weight in pounds:1\n",
            "Enter Height in inches:5.2\n",
            "Overweight\n"
          ],
          "name": "stdout"
        }
      ]
    },
    {
      "cell_type": "markdown",
      "metadata": {
        "id": "D0RUoEhAS2VV",
        "colab_type": "text"
      },
      "source": [
        "7.\tWrite a program that reads an integer between 100 and 1000 and adds all the digits in the integer \t(\tex: input 745 \t# output =16\t(7+4+5)\t"
      ]
    },
    {
      "cell_type": "code",
      "metadata": {
        "id": "_x3U36UBRYQT",
        "colab_type": "code",
        "colab": {
          "base_uri": "https://localhost:8080/",
          "height": 52
        },
        "outputId": "d7936582-8ab2-4a5b-a5a4-16116b4ac767"
      },
      "source": [
        "num=int(input(\"Enter any number between 100 and 1000 :\"))\n",
        "if num<=100 or num>=1000:\n",
        "  print(\"Please enter number between 100 and 1000 only\")\n",
        "  num=int(input(\"Enter number :\"))\n",
        "rem=0\n",
        "sum=0\n",
        "if(num>=100 and num<=1000):\n",
        "  while num>0:\n",
        "    rem=num%10\n",
        "    sum=sum+rem\n",
        "    num=num//10\n",
        "print(int(sum))"
      ],
      "execution_count": 43,
      "outputs": [
        {
          "output_type": "stream",
          "text": [
            "Enter any number between 100 and 1000 :745\n",
            "16\n"
          ],
          "name": "stdout"
        }
      ]
    },
    {
      "cell_type": "markdown",
      "metadata": {
        "id": "33dZz0-qUdSb",
        "colab_type": "text"
      },
      "source": [
        "8.\tPrint all palindrome numbers between 1 to 1000."
      ]
    },
    {
      "cell_type": "code",
      "metadata": {
        "id": "-s4L-vsyTjiV",
        "colab_type": "code",
        "colab": {
          "base_uri": "https://localhost:8080/",
          "height": 54
        },
        "outputId": "ac86e546-b793-4d11-831c-ee2d78448fd4"
      },
      "source": [
        "for num in range(1,1001):\n",
        "    temp = num\n",
        "    rev = 0\n",
        "    while(temp > 0):\n",
        "        rem = temp % 10\n",
        "        rev = (rev * 10) + rem\n",
        "        temp = temp //10\n",
        "    if(num == rev):\n",
        "        print(num, end = '  ')"
      ],
      "execution_count": 49,
      "outputs": [
        {
          "output_type": "stream",
          "text": [
            "1  2  3  4  5  6  7  8  9  11  22  33  44  55  66  77  88  99  101  111  121  131  141  151  161  171  181  191  202  212  222  232  242  252  262  272  282  292  303  313  323  333  343  353  363  373  383  393  404  414  424  434  444  454  464  474  484  494  505  515  525  535  545  555  565  575  585  595  606  616  626  636  646  656  666  676  686  696  707  717  727  737  747  757  767  777  787  797  808  818  828  838  848  858  868  878  888  898  909  919  929  939  949  959  969  979  989  999  "
          ],
          "name": "stdout"
        }
      ]
    },
    {
      "cell_type": "markdown",
      "metadata": {
        "id": "niHh4hblLB5a",
        "colab_type": "text"
      },
      "source": [
        "9.\tPrint all Armstrong numbers between 1 to 1000. "
      ]
    },
    {
      "cell_type": "code",
      "metadata": {
        "id": "Bzpd8v8YXg2j",
        "colab_type": "code",
        "colab": {
          "base_uri": "https://localhost:8080/",
          "height": 105
        },
        "outputId": "5ebd7178-aa15-42ff-d905-d0b60328e60c"
      },
      "source": [
        "for num in range(1,1001):\n",
        "   sum=0\n",
        "   temp=num\n",
        "   while temp > 0:\n",
        "       rem= temp % 10\n",
        "       sum += rem**3\n",
        "       temp//=10   ##floor division\n",
        "   if num == sum:\n",
        "       print(num)"
      ],
      "execution_count": 51,
      "outputs": [
        {
          "output_type": "stream",
          "text": [
            "1\n",
            "153\n",
            "370\n",
            "371\n",
            "407\n"
          ],
          "name": "stdout"
        }
      ]
    },
    {
      "cell_type": "markdown",
      "metadata": {
        "id": "swKBCx7OL3FZ",
        "colab_type": "text"
      },
      "source": [
        "10.\tWrite a Java program which iterates the integers from 1 to 100. For multiples of three print \"Fizz\" instead of the number and print \"Buzz\" for the multiples of five. When number is divided by both three and five, print \"fizz buzz\"."
      ]
    },
    {
      "cell_type": "code",
      "metadata": {
        "id": "Y1oWmAWNLoIn",
        "colab_type": "code",
        "colab": {
          "base_uri": "https://localhost:8080/",
          "height": 1000
        },
        "outputId": "9bb889b3-e54d-49b7-c551-41b7319e3cba"
      },
      "source": [
        "for i in range(1,101):\n",
        "  if i%3==0 and i%5==0:\n",
        "    print(\"First buzz\")\n",
        "  elif i%5==0:\n",
        "    print(\"Buzz\")\n",
        "  elif i%3==0:\n",
        "    print(\"Fizz\")\n",
        "  else:\n",
        "    print(i)"
      ],
      "execution_count": 52,
      "outputs": [
        {
          "output_type": "stream",
          "text": [
            "1\n",
            "2\n",
            "Fizz\n",
            "4\n",
            "Buzz\n",
            "Fizz\n",
            "7\n",
            "8\n",
            "Fizz\n",
            "Buzz\n",
            "11\n",
            "Fizz\n",
            "13\n",
            "14\n",
            "First buzz\n",
            "16\n",
            "17\n",
            "Fizz\n",
            "19\n",
            "Buzz\n",
            "Fizz\n",
            "22\n",
            "23\n",
            "Fizz\n",
            "Buzz\n",
            "26\n",
            "Fizz\n",
            "28\n",
            "29\n",
            "First buzz\n",
            "31\n",
            "32\n",
            "Fizz\n",
            "34\n",
            "Buzz\n",
            "Fizz\n",
            "37\n",
            "38\n",
            "Fizz\n",
            "Buzz\n",
            "41\n",
            "Fizz\n",
            "43\n",
            "44\n",
            "First buzz\n",
            "46\n",
            "47\n",
            "Fizz\n",
            "49\n",
            "Buzz\n",
            "Fizz\n",
            "52\n",
            "53\n",
            "Fizz\n",
            "Buzz\n",
            "56\n",
            "Fizz\n",
            "58\n",
            "59\n",
            "First buzz\n",
            "61\n",
            "62\n",
            "Fizz\n",
            "64\n",
            "Buzz\n",
            "Fizz\n",
            "67\n",
            "68\n",
            "Fizz\n",
            "Buzz\n",
            "71\n",
            "Fizz\n",
            "73\n",
            "74\n",
            "First buzz\n",
            "76\n",
            "77\n",
            "Fizz\n",
            "79\n",
            "Buzz\n",
            "Fizz\n",
            "82\n",
            "83\n",
            "Fizz\n",
            "Buzz\n",
            "86\n",
            "Fizz\n",
            "88\n",
            "89\n",
            "First buzz\n",
            "91\n",
            "92\n",
            "Fizz\n",
            "94\n",
            "Buzz\n",
            "Fizz\n",
            "97\n",
            "98\n",
            "Fizz\n",
            "Buzz\n"
          ],
          "name": "stdout"
        }
      ]
    },
    {
      "cell_type": "markdown",
      "metadata": {
        "id": "4sp_tC3dPgYH",
        "colab_type": "text"
      },
      "source": [
        "11.\tSpider Problem: A spider present at the bottom of the well of height H, needs to get out of it, using the slippery wall of the well. It decides to climb up the well; it goes up U meters and slips down D meters in one single step. So, in each step it covers (U-D) meters, and if the spider gets out of the well by covering U meters in the last step it doesn’t a slip back. For example, if the spider climbs up 5 meters and slips down by 3 meters in a single step, it covers (U - D) m in each step and 96 m in 48 steps, but in the 49th step it climbs up 5 m and reaches out of the well and it will not slip down and the step is counted as one step.     \n",
        "\n",
        "Input: Each test case will contain 3 integers ’H’ height of the well, next ’U’ meters climbs up in each step, and the last ’D’ meters slips down in each step.\n",
        "\n",
        "Output:  The number of steps 'N' required to get out of the well.\n",
        "\n",
        "Example 1:\n",
        "\n",
        " \tInput:\t\t\t\t\t\tOuput \n",
        "\n",
        "\t200 50 1\t\t\t\t\t    5\n",
        "\n",
        "\tExample 2:\n",
        "\n",
        " \tInput:\t\t\t\t\t\tOutput\n",
        "\n",
        "\t500 20 15\t\t\t\t\t   98\n"
      ]
    },
    {
      "cell_type": "code",
      "metadata": {
        "id": "uTYsZ8ORMGog",
        "colab_type": "code",
        "colab": {
          "base_uri": "https://localhost:8080/",
          "height": 52
        },
        "outputId": "4b62bcd7-580e-4413-8cbd-336e6e26d4d5"
      },
      "source": [
        "H,U,D=input().split()\n",
        "count=0\n",
        "while (int(U)-int(D))*count<=int(H)-int(U):\n",
        "  count=count+1 \n",
        "print(count+1)"
      ],
      "execution_count": 56,
      "outputs": [
        {
          "output_type": "stream",
          "text": [
            "200 50 1\n",
            "5\n"
          ],
          "name": "stdout"
        }
      ]
    }
  ]
}