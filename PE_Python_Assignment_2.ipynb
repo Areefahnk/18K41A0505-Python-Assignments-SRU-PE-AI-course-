{
  "nbformat": 4,
  "nbformat_minor": 0,
  "metadata": {
    "colab": {
      "name": "PE_Python_Assignment_2.ipynb",
      "provenance": [],
      "authorship_tag": "ABX9TyOMj7JnnnsrNHjc4+ErOTmR",
      "include_colab_link": true
    },
    "kernelspec": {
      "name": "python3",
      "display_name": "Python 3"
    }
  },
  "cells": [
    {
      "cell_type": "markdown",
      "metadata": {
        "id": "view-in-github",
        "colab_type": "text"
      },
      "source": [
        "<a href=\"https://colab.research.google.com/github/Areefahnk/18K41A0505-Python-Assignments-SRU-PE-AI-course-/blob/master/PE_Python_Assignment_2.ipynb\" target=\"_parent\"><img src=\"https://colab.research.google.com/assets/colab-badge.svg\" alt=\"Open In Colab\"/></a>"
      ]
    },
    {
      "cell_type": "markdown",
      "metadata": {
        "id": "mINg8kO5mncL",
        "colab_type": "text"
      },
      "source": [
        "#1 Given the lengths of three sides of a triangle, calculate the area of the triangle."
      ]
    },
    {
      "cell_type": "code",
      "metadata": {
        "id": "b7St3H1-mrhA",
        "colab_type": "code",
        "colab": {
          "base_uri": "https://localhost:8080/",
          "height": 87
        },
        "outputId": "f9e4edb6-9b28-4b7d-a2db-5e293fbeeade"
      },
      "source": [
        "s1=float(input(\"Enter side1 length: \"))\n",
        "s2=float(input(\"Enter side2 length: \"))\n",
        "s3=float(input(\"Enter side3 length: \"))\n",
        "if (s1+s2)>s3:\n",
        "  s=(s1+s2+s3)/2\n",
        "  area=(s*(s-s1)*(s-s2)*(s-s3))**(1/2)\n",
        "  print(\"The triangle are is= \",round(area,2))\n",
        "else:\n",
        "  print(\"The triangle is not possible\")"
      ],
      "execution_count": 11,
      "outputs": [
        {
          "output_type": "stream",
          "text": [
            "Enter side1 length: 12\n",
            "Enter side2 length: 23\n",
            "Enter side3 length: 20\n",
            "The triangle are is=  119.94\n"
          ],
          "name": "stdout"
        }
      ]
    },
    {
      "cell_type": "markdown",
      "metadata": {
        "id": "M4CaJ6JXmaKr",
        "colab_type": "text"
      },
      "source": [
        "#2Given the lengths of three sides of a triangle, calculate the area of the triangle."
      ]
    },
    {
      "cell_type": "code",
      "metadata": {
        "id": "_E0EqfIKme06",
        "colab_type": "code",
        "colab": {
          "base_uri": "https://localhost:8080/",
          "height": 52
        },
        "outputId": "8dab1b0e-e2b3-45ca-d1f4-9bf9862e875b"
      },
      "source": [
        "s=input(\"Enter a string:\")\n",
        "if(s==s[::-1]):\n",
        "    print(\"String {} is palindrome\".format(s))\n",
        "else:\n",
        "    print(\"String {} is not palindrome\".format(s))"
      ],
      "execution_count": 10,
      "outputs": [
        {
          "output_type": "stream",
          "text": [
            "Enter a string:RotoR\n",
            "String RotoR is palindrome\n"
          ],
          "name": "stdout"
        }
      ]
    },
    {
      "cell_type": "markdown",
      "metadata": {
        "id": "k29vX0eMmRXp",
        "colab_type": "text"
      },
      "source": [
        "#3 Write a program that reads a year from the user and displays a message indicating whether year is leap year or not."
      ]
    },
    {
      "cell_type": "code",
      "metadata": {
        "id": "s9H7KycimQ2m",
        "colab_type": "code",
        "colab": {
          "base_uri": "https://localhost:8080/",
          "height": 52
        },
        "outputId": "45f71b31-6d99-439a-a301-c66f5e94dc69"
      },
      "source": [
        "year=int(input(\"Enter year:\"))\n",
        "if(year%4==0 and year%100!=0 or year%400==0):\n",
        "  print(\"{} is a leap year\".format(year))\n",
        "else:\n",
        "  print(\"{} is not a leap year\".format(year))\n"
      ],
      "execution_count": 9,
      "outputs": [
        {
          "output_type": "stream",
          "text": [
            "Enter year:2012\n",
            "2012 is a leap year\n"
          ],
          "name": "stdout"
        }
      ]
    },
    {
      "cell_type": "markdown",
      "metadata": {
        "id": "wKfQC7mlmDfn",
        "colab_type": "text"
      },
      "source": [
        "#4 Space to Hyphen problem\n",
        "#   Take a string as input, and replaces spaces \" \" with hyphens \"-\", and returns a string.\n",
        "#   Input: \"This program converts spaces into hyphen\"\n",
        "#   Output: \"This-program-converts-spaces-into-hyphen\"\n"
      ]
    },
    {
      "cell_type": "code",
      "metadata": {
        "id": "kPl96G2BmJLm",
        "colab_type": "code",
        "colab": {
          "base_uri": "https://localhost:8080/",
          "height": 52
        },
        "outputId": "e2108992-4c24-41ce-b0e1-7a873ce260bb"
      },
      "source": [
        "string=input(\"Enter string: \")\n",
        "print(string.replace(' ','-'))"
      ],
      "execution_count": 8,
      "outputs": [
        {
          "output_type": "stream",
          "text": [
            "Enter string: Areefa Khan\n",
            "Areefa-Khan\n"
          ],
          "name": "stdout"
        }
      ]
    },
    {
      "cell_type": "markdown",
      "metadata": {
        "id": "O_4VxJ0DlDeY",
        "colab_type": "text"
      },
      "source": [
        "#5. Unique Sort Problem.\n",
        "#   Take a string as input that accepts a comma separated sequence of words as input and prints the unique words in sorted form (alphanumerically).\n",
        "#   Input: orange,white,red,cyan,green,magenta,cyan,pink,white\n",
        "#   Output: cyan,green,magenta,orange,pink,red,white\n"
      ]
    },
    {
      "cell_type": "code",
      "metadata": {
        "id": "Z5Nns_fKlAs5",
        "colab_type": "code",
        "colab": {
          "base_uri": "https://localhost:8080/",
          "height": 52
        },
        "outputId": "8aeed4da-b043-4793-c337-fe3e8bd6d4c4"
      },
      "source": [
        "string=input(\"Enter string: \")\n",
        "words=[word for word in string.split(\",\")]\n",
        "print(\",\".join(sorted(list(set(words)))))"
      ],
      "execution_count": 1,
      "outputs": [
        {
          "output_type": "stream",
          "text": [
            "Enter string: orange,white,red,cyan,green,magenta,cyan,pink,white\n",
            "cyan,green,magenta,orange,pink,red,white\n"
          ],
          "name": "stdout"
        }
      ]
    },
    {
      "cell_type": "markdown",
      "metadata": {
        "id": "jrqlZ8ixlSTl",
        "colab_type": "text"
      },
      "source": [
        "#6Tax Calculator\n",
        "#   Ask the user for their monthly salary. Calculate whether they have to pay tax and if so,\n",
        "#   how much is that amount .Print the result.\n"
      ]
    },
    {
      "cell_type": "code",
      "metadata": {
        "id": "mv7vnzOalG0h",
        "colab_type": "code",
        "colab": {
          "base_uri": "https://localhost:8080/",
          "height": 52
        },
        "outputId": "fdf28bc1-c226-49d6-d62c-af57d2acef9b"
      },
      "source": [
        "sal=int(input(\"Enter the monthly salary : \"))\n",
        "if (sal>=0) and (sal<=250000):\n",
        "    taxpay=(sal*0)\n",
        "elif (sal>250000) and (sal<=500000):\n",
        "    taxpay=(sal*0.05)\n",
        "elif (sal>500000) and (sal<=750000):\n",
        "    taxpay=(sal*0.1)\n",
        "elif (sal>750000) and (sal<=1000000):\n",
        "    taxpay=(sal*0.15)\n",
        "elif (sal>1000000) and (sal<=1250000):\n",
        "    taxpay=(sal*0.2)\n",
        "elif (sal>1250000) and (sal<=1500000):\n",
        "    taxpay=(sal*0.25)\n",
        "else:\n",
        "    taxpay=(salary*0.3)\n",
        "print(\"Tax that to be paid is : \",taxpay)\n"
      ],
      "execution_count": 2,
      "outputs": [
        {
          "output_type": "stream",
          "text": [
            "Enter the monthly salary : 320000\n",
            "Tax that to be paid is :  16000.0\n"
          ],
          "name": "stdout"
        }
      ]
    },
    {
      "cell_type": "markdown",
      "metadata": {
        "id": "xsuhRmHClaP1",
        "colab_type": "text"
      },
      "source": [
        "#7. Take a list of integers as an argument, and converts it into a single integer (return the integer).\n",
        "#   [11,33,50]\n",
        "#   output:113350\n",
        "\n"
      ]
    },
    {
      "cell_type": "code",
      "metadata": {
        "id": "YtoOBVPAlXSy",
        "colab_type": "code",
        "colab": {
          "base_uri": "https://localhost:8080/",
          "height": 52
        },
        "outputId": "d0bd91f8-97c3-47a1-f478-f1b2ac173a0c"
      },
      "source": [
        "List = [11, 33, 50]\n",
        "print(\"Original List: \",List)\n",
        "x = int(\"\".join(map(str, List)))\n",
        "print(\"Single Turned Integer: \",x)"
      ],
      "execution_count": 3,
      "outputs": [
        {
          "output_type": "stream",
          "text": [
            "Original List:  [11, 33, 50]\n",
            "Single Turned Integer:  113350\n"
          ],
          "name": "stdout"
        }
      ]
    },
    {
      "cell_type": "code",
      "metadata": {
        "id": "va6UA6BSljB5",
        "colab_type": "code",
        "colab": {
          "base_uri": "https://localhost:8080/",
          "height": 34
        },
        "outputId": "d1080af2-71f9-4da0-fd4c-6194abe1ae67"
      },
      "source": [
        "list=[11,33,50]\n",
        "for i in list:\n",
        "  print(i,end=\"\")"
      ],
      "execution_count": 5,
      "outputs": [
        {
          "output_type": "stream",
          "text": [
            "113350"
          ],
          "name": "stdout"
        }
      ]
    },
    {
      "cell_type": "markdown",
      "metadata": {
        "id": "63Pm9Kdslowl",
        "colab_type": "text"
      },
      "source": [
        "#8. Units of Time\n",
        "#   Create a program that reads duration from the user as a number of days, hours, minutes, and seconds. \n",
        "#   Compute and display the total number of seconds represented by this duration.\n"
      ]
    },
    {
      "cell_type": "code",
      "metadata": {
        "id": "MBAgtNGXll9H",
        "colab_type": "code",
        "colab": {
          "base_uri": "https://localhost:8080/",
          "height": 52
        },
        "outputId": "12265fbd-cf75-4ffa-cf44-b1fbf9af67de"
      },
      "source": [
        "days,hours,minutes,seconds=(input(\"Enter the number of days:hours:minutes:seconds in this format\").split(\":\"))\n",
        "secspermin=60\n",
        "secsperhour=3600\n",
        "secsperday=86400\n",
        "totalsecs=int(days)*secsperday\n",
        "totalsecs=totalsecs+(int(hours)*secsperhour)\n",
        "totalsecs=totalsecs+(int(minutes)*secspermin)\n",
        "totalsecs=totalsecs+int(seconds)\n",
        "print(\"Total number of seconds represented by this duration = \",\"%d\"%(totalsecs))"
      ],
      "execution_count": 6,
      "outputs": [
        {
          "output_type": "stream",
          "text": [
            "Enter the number of days:hours:minutes:seconds in this format2:12:50:120\n",
            "Total number of seconds represented by this duration =  219120\n"
          ],
          "name": "stdout"
        }
      ]
    },
    {
      "cell_type": "markdown",
      "metadata": {
        "id": "QnwKSEdol0a-",
        "colab_type": "text"
      },
      "source": [
        "#9. Sort 3 integers\n",
        "#   Given three integers (given through user input), sort the numbers using |min| and |max| functions.\n",
        "\n"
      ]
    },
    {
      "cell_type": "code",
      "metadata": {
        "id": "uesbV-qaluBB",
        "colab_type": "code",
        "colab": {
          "base_uri": "https://localhost:8080/",
          "height": 87
        },
        "outputId": "f5e10702-1504-403f-a40d-7c2225b1db51"
      },
      "source": [
        "a=int(input(\"Enter the number of a:\"))\n",
        "b=int(input(\"Enter the number of b:\"))\n",
        "c=int(input(\"Enter the number of c:\"))\n",
        "d=min(a,b,c)\n",
        "e=max(a,b,c)\n",
        "f=(a+b+c)-d-e\n",
        "print(\"The Sorted order is:\",d,f,e)\n"
      ],
      "execution_count": 7,
      "outputs": [
        {
          "output_type": "stream",
          "text": [
            "Enter the number of a:23\n",
            "Enter the number of b:234\n",
            "Enter the number of c:56\n",
            "The Sorted order is: 23 56 234\n"
          ],
          "name": "stdout"
        }
      ]
    },
    {
      "cell_type": "markdown",
      "metadata": {
        "id": "gfIyuT3Mm2R_",
        "colab_type": "text"
      },
      "source": [
        "#10.  Write a program that reads a date from the user and computes its immediate successor.The date is the format YYYY-MM-DD. So, 2020-04-15\n",
        "#     will have the successor 2020-04-16.\n",
        "\n"
      ]
    },
    {
      "cell_type": "code",
      "metadata": {
        "id": "-MaME0RLl9_d",
        "colab_type": "code",
        "colab": {
          "base_uri": "https://localhost:8080/",
          "height": 87
        },
        "outputId": "ce98de09-1674-4153-c8b5-0999b2ed3eb6"
      },
      "source": [
        "year=int(input(\"Enter a year : \"))\n",
        "if year%400== 0:\n",
        "    leapyear=True\n",
        "elif year%100==0:\n",
        "    leapyear=False\n",
        "elif year%4==0:\n",
        "    leapyear=True\n",
        "else:\n",
        "    leapyear=False\n",
        "month=int(input(\"Enter a month between 1 to 12 : \"))\n",
        "if month in (1, 3, 5, 7, 8, 10, 12):\n",
        "    monthlength=31\n",
        "elif month==2:\n",
        "    if leapyear:\n",
        "        monthlength=29\n",
        "    else:\n",
        "        monthlength=28\n",
        "else:\n",
        "    monthlength=30\n",
        "day=int(input(\"Enter a day between 1 to 31 : \"))\n",
        "if day<monthlength:\n",
        "    day+=1\n",
        "else:\n",
        "    day=1\n",
        "    if month==12:\n",
        "        month=1\n",
        "        year+=1\n",
        "    else:\n",
        "        month+=1\n",
        "print(\"The immediate successor is YYYY-MM-DD : %d-%d-%d.\" %(year,month,day))\n"
      ],
      "execution_count": 12,
      "outputs": [
        {
          "output_type": "stream",
          "text": [
            "Enter a year : 2020\n",
            "Enter a month between 1 to 12 : 3\n",
            "Enter a day between 1 to 31 : 12\n",
            "The immediate successor is YYYY-MM-DD : 2020-3-13.\n"
          ],
          "name": "stdout"
        }
      ]
    },
    {
      "cell_type": "markdown",
      "metadata": {
        "id": "H68Coa9gnXwy",
        "colab_type": "text"
      },
      "source": [
        "#11. Compute product of a list of numbers [45,3,2,89,72,1,10,7]\n",
        "#    Output: 121111200\n"
      ]
    },
    {
      "cell_type": "code",
      "metadata": {
        "id": "_rdBZ1COnO7d",
        "colab_type": "code",
        "colab": {
          "base_uri": "https://localhost:8080/",
          "height": 34
        },
        "outputId": "d2fd27bb-7d88-44a0-88e2-adf6c0f4b08a"
      },
      "source": [
        "list=[45,3,2,89,72,1,10,7]\n",
        "j=1\n",
        "for i in range(len(list)):\n",
        "    j=j*list[i]\n",
        "print(j)\n"
      ],
      "execution_count": 13,
      "outputs": [
        {
          "output_type": "stream",
          "text": [
            "121111200\n"
          ],
          "name": "stdout"
        }
      ]
    },
    {
      "cell_type": "markdown",
      "metadata": {
        "id": "U_P5P4wvnn9W",
        "colab_type": "text"
      },
      "source": [
        "#12.  Compute given Num_list=[5,6,8,34,89,1] to get desired output.\n",
        "#     Output : Out_list=[11,14,42,123,90]\n"
      ]
    },
    {
      "cell_type": "code",
      "metadata": {
        "id": "SQ8EmigmnmbJ",
        "colab_type": "code",
        "colab": {
          "base_uri": "https://localhost:8080/",
          "height": 34
        },
        "outputId": "98396bb7-bf1c-46bf-f579-a4b09632d642"
      },
      "source": [
        "list=[5,6,8,34,89,1]\n",
        "Out_list=[]\n",
        "for i in range(len(list)-1):\n",
        "    ol=list[i]+list[i+1]\n",
        "    Out_list.append(ol)\n",
        "print(\"Out_list=\",Out_list)\n"
      ],
      "execution_count": 14,
      "outputs": [
        {
          "output_type": "stream",
          "text": [
            "Out_list= [11, 14, 42, 123, 90]\n"
          ],
          "name": "stdout"
        }
      ]
    },
    {
      "cell_type": "markdown",
      "metadata": {
        "id": "3sGtDJFhn7KK",
        "colab_type": "text"
      },
      "source": [
        "#13.  Compute given Num_tuple=(5,6,8,3,9,1) to get desired output.\n",
        "#     Output : Out_list=[5,30,240,720,6480,6480]  \n"
      ]
    },
    {
      "cell_type": "code",
      "metadata": {
        "id": "HGV7fn6rn33m",
        "colab_type": "code",
        "colab": {
          "base_uri": "https://localhost:8080/",
          "height": 34
        },
        "outputId": "f889b5bd-2c34-4f46-e00b-4bc0477567fa"
      },
      "source": [
        "n=(5,6,8,3,9,1)\n",
        "Out_list=[]\n",
        "Out_list.append(n[0])\n",
        "for i in range(len(n)-1):\n",
        "    m=Out_list[i]*n[i+1]\n",
        "    Out_list.append(m)\n",
        "print(\"Out_list=\",Out_list)\n"
      ],
      "execution_count": 25,
      "outputs": [
        {
          "output_type": "stream",
          "text": [
            "Out_list= [5, 30, 240, 720, 6480, 6480]\n"
          ],
          "name": "stdout"
        }
      ]
    },
    {
      "cell_type": "markdown",
      "metadata": {
        "id": "dsAM_UY7oPXB",
        "colab_type": "text"
      },
      "source": [
        "#14.  Write a Python code that takes a number and returns a list of its digits. So for 586392 it should return [5,8,6,3,9,2]."
      ]
    },
    {
      "cell_type": "code",
      "metadata": {
        "id": "7gCuUYlzoJRw",
        "colab_type": "code",
        "colab": {
          "base_uri": "https://localhost:8080/",
          "height": 52
        },
        "outputId": "5f99e960-9a5e-492e-aeaa-37900d005322"
      },
      "source": [
        "num=input(\"Enter a number: \")\n",
        "list=[]\n",
        "for n in range(len(num)):\n",
        "    list.append(int(num[n]))\n",
        "print(list)\n"
      ],
      "execution_count": 19,
      "outputs": [
        {
          "output_type": "stream",
          "text": [
            "Enter a number: 586392\n",
            "[5, 8, 6, 3, 9, 2]\n"
          ],
          "name": "stdout"
        }
      ]
    },
    {
      "cell_type": "markdown",
      "metadata": {
        "id": "0VFc31M2oyS-",
        "colab_type": "text"
      },
      "source": [
        "#15. Write a program that finds the longest palindromic substring of a given string."
      ]
    },
    {
      "cell_type": "code",
      "metadata": {
        "id": "PwLMjDKqoZo8",
        "colab_type": "code",
        "colab": {
          "base_uri": "https://localhost:8080/",
          "height": 52
        },
        "outputId": "89c60b36-0afa-4ecb-89d9-a35c26236ab1"
      },
      "source": [
        "def longestpalindrome(n):\n",
        "    d=[[False for i in range(len(n))] for i in range(len(n))]\n",
        "    for i in range(len(n)):\n",
        "        d[i][i]=True\n",
        "    maxlen=1\n",
        "    start=0\n",
        "    for j in range(2,len(n)+1):\n",
        "        for i in range(len(n)-j+1):\n",
        "            end=i+j\n",
        "            if j==2:\n",
        "                if n[i]==n[end-1]:\n",
        "                    d[i][end-1]=True\n",
        "                    maxlen=j\n",
        "                    start=i\n",
        "            else:\n",
        "                if n[i]==n[end-1] and d[i+1][end-2]:\n",
        "                    d[i][end-1]=True\n",
        "                    maxlen=j\n",
        "                    start=i\n",
        "    return n[start:start+maxlen]\n",
        "n=input(\"Enter a string : \")\n",
        "print(longestpalindrome(n))\n"
      ],
      "execution_count": 20,
      "outputs": [
        {
          "output_type": "stream",
          "text": [
            "Enter a string : RotoRpot\n",
            "RotoR\n"
          ],
          "name": "stdout"
        }
      ]
    },
    {
      "cell_type": "markdown",
      "metadata": {
        "id": "ApEDvUBGpDSW",
        "colab_type": "text"
      },
      "source": [
        "#16.  Substring Check (Bug Funny)\n",
        "#     Given two binary strings, A (of length 10) and B (of length 5), output 1 if B is a substring of A and 0 otherwise.\n",
        "#     First two lines of input:\n",
        "#     1010110010          10110\n",
        "#     1110111011           10011\n",
        "#     First two lines of output:\n",
        "#     1\n",
        "#     0\n",
        "\n"
      ]
    },
    {
      "cell_type": "code",
      "metadata": {
        "id": "dLGf5RDdo-YT",
        "colab_type": "code",
        "colab": {
          "base_uri": "https://localhost:8080/",
          "height": 105
        },
        "outputId": "928e6173-580f-4fb5-fe22-28ebe2e25293"
      },
      "source": [
        "n=int(input(\"Enter Number of testcases\"))\n",
        "for i in range(n):\n",
        "  s1,s2=input(\"Enter s1 string and s2 string : \").split()\n",
        "  if s2 in s1:\n",
        "    print(\"1\")\n",
        "  else:\n",
        "    print(\"0\")\n"
      ],
      "execution_count": 24,
      "outputs": [
        {
          "output_type": "stream",
          "text": [
            "Enter Number of testcases2\n",
            "Enter s1 string and s2 string : 1000111 101\n",
            "0\n",
            "Enter s1 string and s2 string : 111011 11\n",
            "1\n"
          ],
          "name": "stdout"
        }
      ]
    },
    {
      "cell_type": "markdown",
      "metadata": {
        "id": "jcWIcIDQqLJ9",
        "colab_type": "text"
      },
      "source": [
        "#17 Pouring water problem:"
      ]
    },
    {
      "cell_type": "code",
      "metadata": {
        "id": "a0EuKSsdpbIf",
        "colab_type": "code",
        "colab": {
          "base_uri": "https://localhost:8080/",
          "height": 176
        },
        "outputId": "58f6b805-0bf5-4d4c-fcdb-bcff1c79688f"
      },
      "source": [
        "def res(a,b,c):\n",
        "    i=0\n",
        "    vessel1=0\n",
        "    vessel2=0\n",
        "    while vessel1!=c and vessel2!=c:\n",
        "        if vessel2==0: \n",
        "            vessel2=b \n",
        "            i+=1\n",
        "        if vessel1 == a: \n",
        "            vessel1 = 0\n",
        "            i+=1\n",
        "        if vessel2<a-vessel1:\n",
        "            temp=vessel2\n",
        "        else:\n",
        "            temp=a-vessel1\n",
        "        vessel1+=temp\n",
        "        vessel2-=temp\n",
        "        i+=1\n",
        "    return i\n",
        "        \n",
        "n=int(input('Enter number of test cases: '))\n",
        "for x in range(0,n):\n",
        "    a=int(input('Enter capacity of A vessel: '))\n",
        "    b=int(input('Enter capacity of B vessel: '))\n",
        "    c=int(input('Enter required litres of water: '))\n",
        "    if a<c and b<c:\n",
        "        result=-1\n",
        "    else:\n",
        "        if res(a,b,c)<res(b,a,c):\n",
        "            result=res(a,b,c)\n",
        "        else:\n",
        "            result=res(b,a,c)\n",
        "    print(result)"
      ],
      "execution_count": 27,
      "outputs": [
        {
          "output_type": "stream",
          "text": [
            "Enter number of test cases: 2\n",
            "Enter capacity of A vessel: 5\n",
            "Enter capacity of B vessel: 3\n",
            "Enter required litres of water: 3\n",
            "2\n",
            "Enter capacity of A vessel: 2\n",
            "Enter capacity of B vessel: 3\n",
            "Enter required litres of water: 4\n",
            "-1\n"
          ],
          "name": "stdout"
        }
      ]
    },
    {
      "cell_type": "code",
      "metadata": {
        "id": "n-36hZCygCdT",
        "colab_type": "code",
        "colab": {}
      },
      "source": [
        ""
      ],
      "execution_count": null,
      "outputs": []
    }
  ]
}